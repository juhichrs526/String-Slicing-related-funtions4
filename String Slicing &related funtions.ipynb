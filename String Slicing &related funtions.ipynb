{
 "cells": [
  {
   "cell_type": "code",
   "execution_count": 1,
   "id": "b5c2e4a9",
   "metadata": {},
   "outputs": [
    {
     "name": "stdout",
     "output_type": "stream",
     "text": [
      "Juhi is a good girl\n"
     ]
    }
   ],
   "source": [
    "mystr=\"Juhi is a good girl\"\n",
    "print(mystr)"
   ]
  },
  {
   "cell_type": "code",
   "execution_count": 3,
   "id": "06d9e6b3",
   "metadata": {},
   "outputs": [
    {
     "name": "stdout",
     "output_type": "stream",
     "text": [
      "i\n"
     ]
    }
   ],
   "source": [
    "print(mystr[3])"
   ]
  },
  {
   "cell_type": "code",
   "execution_count": 4,
   "id": "0600c97a",
   "metadata": {},
   "outputs": [
    {
     "name": "stdout",
     "output_type": "stream",
     "text": [
      "d\n"
     ]
    }
   ],
   "source": [
    "print(mystr[13])"
   ]
  },
  {
   "cell_type": "code",
   "execution_count": 5,
   "id": "133ef288",
   "metadata": {},
   "outputs": [
    {
     "name": "stdout",
     "output_type": "stream",
     "text": [
      "Juhi i\n"
     ]
    }
   ],
   "source": [
    "print(mystr[0:6])"
   ]
  },
  {
   "cell_type": "code",
   "execution_count": 6,
   "id": "ea79f248",
   "metadata": {},
   "outputs": [
    {
     "name": "stdout",
     "output_type": "stream",
     "text": [
      "19\n"
     ]
    }
   ],
   "source": [
    "print(len(mystr))"
   ]
  },
  {
   "cell_type": "code",
   "execution_count": 10,
   "id": "cb773cd4",
   "metadata": {},
   "outputs": [
    {
     "name": "stdout",
     "output_type": "stream",
     "text": [
      "Juhi is a good girl\n"
     ]
    }
   ],
   "source": [
    "print(mystr[0:19])"
   ]
  },
  {
   "cell_type": "code",
   "execution_count": 13,
   "id": "b463e69f",
   "metadata": {},
   "outputs": [
    {
     "name": "stdout",
     "output_type": "stream",
     "text": [
      "Jh sago il\n"
     ]
    }
   ],
   "source": [
    "print(mystr[0:19:2])"
   ]
  },
  {
   "cell_type": "code",
   "execution_count": 14,
   "id": "80a5be2d",
   "metadata": {},
   "outputs": [
    {
     "name": "stdout",
     "output_type": "stream",
     "text": [
      "Juhi is a good girl\n"
     ]
    }
   ],
   "source": [
    "#[index 0 se start :length of the string 19 :by deforte  1 ]\n",
    "print(mystr[::])"
   ]
  },
  {
   "cell_type": "code",
   "execution_count": 15,
   "id": "c4153521",
   "metadata": {},
   "outputs": [
    {
     "name": "stdout",
     "output_type": "stream",
     "text": [
      "J\n"
     ]
    }
   ],
   "source": [
    "print(mystr[0:19:5554])"
   ]
  },
  {
   "cell_type": "code",
   "execution_count": 18,
   "id": "aa3de2a9",
   "metadata": {},
   "outputs": [
    {
     "name": "stdout",
     "output_type": "stream",
     "text": [
      "lrig doog a si ihuJ\n"
     ]
    }
   ],
   "source": [
    "print(mystr[::-1])"
   ]
  },
  {
   "cell_type": "code",
   "execution_count": 19,
   "id": "bd0dad8b",
   "metadata": {},
   "outputs": [
    {
     "name": "stdout",
     "output_type": "stream",
     "text": [
      "li ogas hJ\n"
     ]
    }
   ],
   "source": [
    "print(mystr[::-2])"
   ]
  },
  {
   "cell_type": "code",
   "execution_count": 20,
   "id": "f8d16356",
   "metadata": {},
   "outputs": [
    {
     "name": "stdout",
     "output_type": "stream",
     "text": [
      "False\n"
     ]
    }
   ],
   "source": [
    "print(mystr.isalnum())"
   ]
  },
  {
   "cell_type": "code",
   "execution_count": 22,
   "id": "6e83af33",
   "metadata": {},
   "outputs": [
    {
     "name": "stdout",
     "output_type": "stream",
     "text": [
      "True\n"
     ]
    }
   ],
   "source": [
    "print(mystr.endswith(\"girl\"))"
   ]
  },
  {
   "cell_type": "code",
   "execution_count": 23,
   "id": "7a6f3a25",
   "metadata": {},
   "outputs": [
    {
     "name": "stdout",
     "output_type": "stream",
     "text": [
      "2\n"
     ]
    }
   ],
   "source": [
    "print(mystr.count(\"o\"))"
   ]
  },
  {
   "cell_type": "code",
   "execution_count": 24,
   "id": "eb534624",
   "metadata": {},
   "outputs": [
    {
     "name": "stdout",
     "output_type": "stream",
     "text": [
      "Juhi is a good girl\n"
     ]
    }
   ],
   "source": [
    "print(mystr.capitalize())"
   ]
  },
  {
   "cell_type": "code",
   "execution_count": 25,
   "id": "f6a7eabf",
   "metadata": {},
   "outputs": [
    {
     "name": "stdout",
     "output_type": "stream",
     "text": [
      "15\n"
     ]
    }
   ],
   "source": [
    "print(mystr.find(\"girl\"))"
   ]
  },
  {
   "cell_type": "code",
   "execution_count": 26,
   "id": "55d67601",
   "metadata": {},
   "outputs": [
    {
     "name": "stdout",
     "output_type": "stream",
     "text": [
      "JUHI IS A GOOD GIRL\n"
     ]
    }
   ],
   "source": [
    "print(mystr.upper())"
   ]
  },
  {
   "cell_type": "code",
   "execution_count": 27,
   "id": "7dfb2981",
   "metadata": {},
   "outputs": [
    {
     "name": "stdout",
     "output_type": "stream",
     "text": [
      "juhi is a good girl\n"
     ]
    }
   ],
   "source": [
    "print(mystr.lower())"
   ]
  },
  {
   "cell_type": "code",
   "execution_count": 29,
   "id": "ec0878b0",
   "metadata": {},
   "outputs": [
    {
     "name": "stdout",
     "output_type": "stream",
     "text": [
      "Juhi is a crazy girl\n"
     ]
    }
   ],
   "source": [
    "print(mystr.replace(\"good\",\"crazy\"))"
   ]
  },
  {
   "cell_type": "code",
   "execution_count": null,
   "id": "1b844698",
   "metadata": {},
   "outputs": [],
   "source": []
  }
 ],
 "metadata": {
  "kernelspec": {
   "display_name": "Python 3",
   "language": "python",
   "name": "python3"
  },
  "language_info": {
   "codemirror_mode": {
    "name": "ipython",
    "version": 3
   },
   "file_extension": ".py",
   "mimetype": "text/x-python",
   "name": "python",
   "nbconvert_exporter": "python",
   "pygments_lexer": "ipython3",
   "version": "3.8.8"
  }
 },
 "nbformat": 4,
 "nbformat_minor": 5
}
